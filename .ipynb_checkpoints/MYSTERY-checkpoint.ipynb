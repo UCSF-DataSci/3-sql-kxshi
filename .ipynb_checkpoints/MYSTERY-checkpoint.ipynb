{
 "cells": [
  {
   "cell_type": "markdown",
   "id": "ebb94371",
   "metadata": {},
   "source": [
    "# SQL Murder Mystery\n",
    "\n",
    "## Can you find out whodunnit?\n",
    "\n",
    "![A decorative illustration of a detective looking at an evidence board.](https://mystery.knightlab.com/174092-clue-illustration.png)\n",
    "\n",
    "There's been a Murder in SQL City! The SQL Murder Mystery is designed to be both a self-directed lesson to learn SQL concepts and commands and a fun game for experienced SQL users to solve an intriguing crime.\n",
    "\n",
    "## SQL sleuths start here\n",
    "\n",
    "A crime has taken place and the detective needs your help. The detective gave you the crime scene report, but you somehow lost it. You vaguely remember that the crime was a **​murder​** that occurred sometime on ​**Jan.15, 2018​** and that it took place in ​**SQL City​**. Start by retrieving the corresponding crime scene report from the police department’s database.\n",
    "\n",
    "### Exploring the Database Structure\n",
    "\n",
    "Experienced SQL users can often use database queries to infer the structure of a database. But each database system has different ways of managing this information. The SQL Murder Mystery is built using SQLite. Use this SQL command to find the tables in the Murder Mystery database.\n",
    "\n",
    "Run this query to find the names of the tables in this database.\n",
    "\n",
    "This command is specific to SQLite. For other databases, you'll have to learn their specific syntax.\n"
   ]
  },
  {
   "cell_type": "code",
   "execution_count": 4,
   "id": "1370e6a4",
   "metadata": {},
   "outputs": [
    {
     "name": "stdout",
     "output_type": "stream",
     "text": [
      "Note: you may need to restart the kernel to use updated packages.\n",
      "Collecting prettytable==3.9.0\n",
      "  Downloading prettytable-3.9.0-py3-none-any.whl.metadata (26 kB)\n",
      "Collecting wcwidth (from prettytable==3.9.0)\n",
      "  Downloading wcwidth-0.2.13-py2.py3-none-any.whl.metadata (14 kB)\n",
      "Downloading prettytable-3.9.0-py3-none-any.whl (27 kB)\n",
      "Downloading wcwidth-0.2.13-py2.py3-none-any.whl (34 kB)\n",
      "Installing collected packages: wcwidth, prettytable\n",
      "  Attempting uninstall: wcwidth\n",
      "    Found existing installation: wcwidth 0.2.13\n",
      "    Uninstalling wcwidth-0.2.13:\n",
      "      Successfully uninstalled wcwidth-0.2.13\n",
      "  Attempting uninstall: prettytable\n",
      "    Found existing installation: prettytable 3.16.0\n",
      "    Uninstalling prettytable-3.16.0:\n",
      "      Successfully uninstalled prettytable-3.16.0\n",
      "Successfully installed prettytable-3.9.0 wcwidth-0.2.13\n",
      "Note: you may need to restart the kernel to use updated packages.\n",
      "The sql extension is already loaded. To reload it, use:\n",
      "  %reload_ext sql\n"
     ]
    }
   ],
   "source": [
    "# Install/upgrade necessary packages\n",
    "%pip install --upgrade prettytable ipython-sql sqlalchemy pandas --quiet\n",
    "\n",
    "# My python environment doesn't upgrade automatically?\n",
    "%pip install prettytable==3.9.0 --force-reinstall --no-cache-dir\n",
    "\n",
    "# Load SQL magic\n",
    "%load_ext sql\n",
    "\n",
    "# Connect to the database\n",
    "%sql sqlite:///sql-murder-mystery.db"
   ]
  },
  {
   "cell_type": "code",
   "execution_count": 21,
   "id": "2f0d9254",
   "metadata": {},
   "outputs": [
    {
     "name": "stdout",
     "output_type": "stream",
     "text": [
      " * sqlite:///sql-murder-mystery.db\n",
      "Done.\n"
     ]
    },
    {
     "data": {
      "text/html": [
       "<table>\n",
       "    <thead>\n",
       "        <tr>\n",
       "            <th>name</th>\n",
       "        </tr>\n",
       "    </thead>\n",
       "    <tbody>\n",
       "        <tr>\n",
       "            <td>crime_scene_report</td>\n",
       "        </tr>\n",
       "        <tr>\n",
       "            <td>drivers_license</td>\n",
       "        </tr>\n",
       "        <tr>\n",
       "            <td>facebook_event_checkin</td>\n",
       "        </tr>\n",
       "        <tr>\n",
       "            <td>interview</td>\n",
       "        </tr>\n",
       "        <tr>\n",
       "            <td>get_fit_now_member</td>\n",
       "        </tr>\n",
       "        <tr>\n",
       "            <td>get_fit_now_check_in</td>\n",
       "        </tr>\n",
       "        <tr>\n",
       "            <td>solution</td>\n",
       "        </tr>\n",
       "        <tr>\n",
       "            <td>income</td>\n",
       "        </tr>\n",
       "        <tr>\n",
       "            <td>person</td>\n",
       "        </tr>\n",
       "    </tbody>\n",
       "</table>"
      ],
      "text/plain": [
       "[('crime_scene_report',),\n",
       " ('drivers_license',),\n",
       " ('facebook_event_checkin',),\n",
       " ('interview',),\n",
       " ('get_fit_now_member',),\n",
       " ('get_fit_now_check_in',),\n",
       " ('solution',),\n",
       " ('income',),\n",
       " ('person',)]"
      ]
     },
     "execution_count": 21,
     "metadata": {},
     "output_type": "execute_result"
    }
   ],
   "source": [
    "%%sql\n",
    "SELECT name\n",
    "FROM sqlite_master\n",
    "where type = 'table';"
   ]
  },
  {
   "cell_type": "markdown",
   "id": "c71b53aa",
   "metadata": {},
   "source": [
    "\n",
    "Besides knowing the table names, you need to know how each table is structured. The way this works is also dependent upon which database technology you use. Here's how you do it with SQLite.\n",
    "\n",
    "Run this query to find the structure of the `crime_scene_report` table\n",
    "\n",
    "Change the value of 'name' to see the structure of the other tables you learned about with the previous query.\n"
   ]
  },
  {
   "cell_type": "code",
   "execution_count": 20,
   "id": "a977d922",
   "metadata": {},
   "outputs": [
    {
     "name": "stdout",
     "output_type": "stream",
     "text": [
      " * sqlite:///sql-murder-mystery.db\n",
      "Done.\n"
     ]
    },
    {
     "data": {
      "text/html": [
       "<table>\n",
       "    <thead>\n",
       "        <tr>\n",
       "            <th>sql</th>\n",
       "        </tr>\n",
       "    </thead>\n",
       "    <tbody>\n",
       "        <tr>\n",
       "            <td>CREATE TABLE crime_scene_report (<br>        date integer,<br>        type text,<br>        description text,<br>        city text<br>    )</td>\n",
       "        </tr>\n",
       "    </tbody>\n",
       "</table>"
      ],
      "text/plain": [
       "[('CREATE TABLE crime_scene_report (\\n        date integer,\\n        type text,\\n        description text,\\n        city text\\n    )',)]"
      ]
     },
     "execution_count": 20,
     "metadata": {},
     "output_type": "execute_result"
    }
   ],
   "source": [
    "%%sql\n",
    "SELECT sql\n",
    "FROM sqlite_master\n",
    "where name = 'crime_scene_report';"
   ]
  },
  {
   "cell_type": "markdown",
   "id": "d9789bc7",
   "metadata": {},
   "source": [
    "\n",
    "### The rest is up to you!\n",
    "\n",
    "If you're really comfortable with SQL, you can probably get it from here. To help, here is the schema diagram:\n",
    "\n",
    "![schema diagram](schema.png)\n",
    "\n",
    "Use your knowledge of the database schema and SQL commands to find out who committed the murder.\n",
    "### Check your solution\n",
    "\n",
    "Did you find the killer? When you think you know the answer, submit your suspect using the following code and find out if you're right.\n"
   ]
  },
  {
   "cell_type": "code",
   "execution_count": 19,
   "id": "35c2f14f-603a-4eb0-bd06-fa95e63f1aeb",
   "metadata": {},
   "outputs": [
    {
     "name": "stdout",
     "output_type": "stream",
     "text": [
      " * sqlite:///sql-murder-mystery.db\n",
      "Done.\n"
     ]
    },
    {
     "data": {
      "text/html": [
       "<table>\n",
       "    <thead>\n",
       "        <tr>\n",
       "            <th>date</th>\n",
       "            <th>type</th>\n",
       "            <th>description</th>\n",
       "            <th>city</th>\n",
       "        </tr>\n",
       "    </thead>\n",
       "    <tbody>\n",
       "        <tr>\n",
       "            <td>20180115</td>\n",
       "            <td>murder</td>\n",
       "            <td>Security footage shows that there were 2 witnesses. The first witness lives at the last house on &quot;Northwestern Dr&quot;. The second witness, named Annabel, lives somewhere on &quot;Franklin Ave&quot;.</td>\n",
       "            <td>SQL City</td>\n",
       "        </tr>\n",
       "    </tbody>\n",
       "</table>"
      ],
      "text/plain": [
       "[(20180115, 'murder', 'Security footage shows that there were 2 witnesses. The first witness lives at the last house on \"Northwestern Dr\". The second witness, named Annabel, lives somewhere on \"Franklin Ave\".', 'SQL City')]"
      ]
     },
     "execution_count": 19,
     "metadata": {},
     "output_type": "execute_result"
    }
   ],
   "source": [
    "%%sql\n",
    "SELECT *\n",
    "FROM crime_scene_report\n",
    "WHERE type = 'murder' and city = 'SQL City' and date = '20180115';"
   ]
  },
  {
   "cell_type": "code",
   "execution_count": 29,
   "id": "54613cc9-4894-424f-87e6-f99c09d59b74",
   "metadata": {},
   "outputs": [
    {
     "name": "stdout",
     "output_type": "stream",
     "text": [
      " * sqlite:///sql-murder-mystery.db\n",
      "Done.\n"
     ]
    },
    {
     "data": {
      "text/html": [
       "<table>\n",
       "    <thead>\n",
       "        <tr>\n",
       "            <th>id</th>\n",
       "            <th>name</th>\n",
       "            <th>license_id</th>\n",
       "            <th>address_number</th>\n",
       "            <th>address_street_name</th>\n",
       "            <th>ssn</th>\n",
       "        </tr>\n",
       "    </thead>\n",
       "    <tbody>\n",
       "        <tr>\n",
       "            <td>14887</td>\n",
       "            <td>Morty Schapiro</td>\n",
       "            <td>118009</td>\n",
       "            <td>4919</td>\n",
       "            <td>Northwestern Dr</td>\n",
       "            <td>111564949</td>\n",
       "        </tr>\n",
       "        <tr>\n",
       "            <td>16371</td>\n",
       "            <td>Annabel Miller</td>\n",
       "            <td>490173</td>\n",
       "            <td>103</td>\n",
       "            <td>Franklin Ave</td>\n",
       "            <td>318771143</td>\n",
       "        </tr>\n",
       "    </tbody>\n",
       "</table>"
      ],
      "text/plain": [
       "[(14887, 'Morty Schapiro', 118009, 4919, 'Northwestern Dr', '111564949'),\n",
       " (16371, 'Annabel Miller', 490173, 103, 'Franklin Ave', '318771143')]"
      ]
     },
     "execution_count": 29,
     "metadata": {},
     "output_type": "execute_result"
    }
   ],
   "source": [
    "%%sql\n",
    "SELECT *\n",
    "FROM person\n",
    "WHERE \n",
    "    (address_street_name = 'Northwestern Dr' AND address_number = (\n",
    "        SELECT MAX(address_number)\n",
    "        FROM person\n",
    "        WHERE address_street_name = 'Northwestern Dr'\n",
    "    ))\n",
    "    OR (address_street_name = 'Franklin Ave' AND name LIKE '%Annabel%');"
   ]
  },
  {
   "cell_type": "code",
   "execution_count": 39,
   "id": "478a516f-db4d-46a0-bc5f-88abf58f457c",
   "metadata": {},
   "outputs": [
    {
     "name": "stdout",
     "output_type": "stream",
     "text": [
      " * sqlite:///sql-murder-mystery.db\n",
      "Done.\n"
     ]
    },
    {
     "data": {
      "text/html": [
       "<table>\n",
       "    <thead>\n",
       "        <tr>\n",
       "            <th>person_id</th>\n",
       "            <th>transcript</th>\n",
       "            <th>id</th>\n",
       "            <th>name</th>\n",
       "            <th>license_id</th>\n",
       "            <th>address_number</th>\n",
       "            <th>address_street_name</th>\n",
       "            <th>ssn</th>\n",
       "        </tr>\n",
       "    </thead>\n",
       "    <tbody>\n",
       "        <tr>\n",
       "            <td>14887</td>\n",
       "            <td>I heard a gunshot and then saw a man run out. He had a &quot;Get Fit Now Gym&quot; bag. The membership number on the bag started with &quot;48Z&quot;. Only gold members have those bags. The man got into a car with a plate that included &quot;H42W&quot;.</td>\n",
       "            <td>14887</td>\n",
       "            <td>Morty Schapiro</td>\n",
       "            <td>118009</td>\n",
       "            <td>4919</td>\n",
       "            <td>Northwestern Dr</td>\n",
       "            <td>111564949</td>\n",
       "        </tr>\n",
       "        <tr>\n",
       "            <td>16371</td>\n",
       "            <td>I saw the murder happen, and I recognized the killer from my gym when I was working out last week on January the 9th.</td>\n",
       "            <td>16371</td>\n",
       "            <td>Annabel Miller</td>\n",
       "            <td>490173</td>\n",
       "            <td>103</td>\n",
       "            <td>Franklin Ave</td>\n",
       "            <td>318771143</td>\n",
       "        </tr>\n",
       "    </tbody>\n",
       "</table>"
      ],
      "text/plain": [
       "[(14887, 'I heard a gunshot and then saw a man run out. He had a \"Get Fit Now Gym\" bag. The membership number on the bag started with \"48Z\". Only gold members have those bags. The man got into a car with a plate that included \"H42W\".', 14887, 'Morty Schapiro', 118009, 4919, 'Northwestern Dr', '111564949'),\n",
       " (16371, 'I saw the murder happen, and I recognized the killer from my gym when I was working out last week on January the 9th.', 16371, 'Annabel Miller', 490173, 103, 'Franklin Ave', '318771143')]"
      ]
     },
     "execution_count": 39,
     "metadata": {},
     "output_type": "execute_result"
    }
   ],
   "source": [
    "%%sql\n",
    "SELECT *\n",
    "FROM interview\n",
    "INNER JOIN person ON person_id = id\n",
    "WHERE \n",
    "    (address_street_name = 'Northwestern Dr' AND address_number = (\n",
    "        SELECT MAX(address_number)\n",
    "        FROM person\n",
    "        WHERE address_street_name = 'Northwestern Dr'\n",
    "    ))\n",
    "    OR (address_street_name = 'Franklin Ave' AND name LIKE '%Annabel%');"
   ]
  },
  {
   "cell_type": "code",
   "execution_count": 52,
   "id": "caed6833-0076-40b4-a619-1a0ad38ac94d",
   "metadata": {},
   "outputs": [
    {
     "name": "stdout",
     "output_type": "stream",
     "text": [
      " * sqlite:///sql-murder-mystery.db\n",
      "Done.\n"
     ]
    },
    {
     "data": {
      "text/html": [
       "<table>\n",
       "    <thead>\n",
       "        <tr>\n",
       "            <th>id</th>\n",
       "            <th>person_id</th>\n",
       "            <th>name</th>\n",
       "            <th>membership_start_date</th>\n",
       "            <th>membership_status</th>\n",
       "            <th>membership_id</th>\n",
       "            <th>check_in_date</th>\n",
       "            <th>check_in_time</th>\n",
       "            <th>check_out_time</th>\n",
       "        </tr>\n",
       "    </thead>\n",
       "    <tbody>\n",
       "        <tr>\n",
       "            <td>48Z7A</td>\n",
       "            <td>28819</td>\n",
       "            <td>Joe Germuska</td>\n",
       "            <td>20160305</td>\n",
       "            <td>gold</td>\n",
       "            <td>48Z7A</td>\n",
       "            <td>20180109</td>\n",
       "            <td>1600</td>\n",
       "            <td>1730</td>\n",
       "        </tr>\n",
       "        <tr>\n",
       "            <td>48Z55</td>\n",
       "            <td>67318</td>\n",
       "            <td>Jeremy Bowers</td>\n",
       "            <td>20160101</td>\n",
       "            <td>gold</td>\n",
       "            <td>48Z55</td>\n",
       "            <td>20180109</td>\n",
       "            <td>1530</td>\n",
       "            <td>1700</td>\n",
       "        </tr>\n",
       "    </tbody>\n",
       "</table>"
      ],
      "text/plain": [
       "[('48Z7A', 28819, 'Joe Germuska', 20160305, 'gold', '48Z7A', 20180109, 1600, 1730),\n",
       " ('48Z55', 67318, 'Jeremy Bowers', 20160101, 'gold', '48Z55', 20180109, 1530, 1700)]"
      ]
     },
     "execution_count": 52,
     "metadata": {},
     "output_type": "execute_result"
    }
   ],
   "source": [
    "%%sql\n",
    "SELECT *\n",
    "FROM get_fit_now_member\n",
    "INNER JOIN get_fit_now_check_in on id = membership_id\n",
    "WHERE membership_status = 'gold' and check_in_date = '20180109' and membership_id LIKE '%48Z%'\n",
    "LIMIT 5;"
   ]
  },
  {
   "cell_type": "code",
   "execution_count": 55,
   "id": "78306f66-02a3-49f4-988c-855b26ec9a01",
   "metadata": {},
   "outputs": [
    {
     "name": "stdout",
     "output_type": "stream",
     "text": [
      " * sqlite:///sql-murder-mystery.db\n",
      "Done.\n"
     ]
    },
    {
     "data": {
      "text/html": [
       "<table>\n",
       "    <thead>\n",
       "        <tr>\n",
       "            <th>id</th>\n",
       "            <th>person_id</th>\n",
       "            <th>name</th>\n",
       "            <th>membership_start_date</th>\n",
       "            <th>membership_status</th>\n",
       "            <th>id_1</th>\n",
       "            <th>name_1</th>\n",
       "            <th>license_id</th>\n",
       "            <th>address_number</th>\n",
       "            <th>address_street_name</th>\n",
       "            <th>ssn</th>\n",
       "            <th>id_2</th>\n",
       "            <th>age</th>\n",
       "            <th>height</th>\n",
       "            <th>eye_color</th>\n",
       "            <th>hair_color</th>\n",
       "            <th>gender</th>\n",
       "            <th>plate_number</th>\n",
       "            <th>car_make</th>\n",
       "            <th>car_model</th>\n",
       "        </tr>\n",
       "    </thead>\n",
       "    <tbody>\n",
       "        <tr>\n",
       "            <td>48Z55</td>\n",
       "            <td>67318</td>\n",
       "            <td>Jeremy Bowers</td>\n",
       "            <td>20160101</td>\n",
       "            <td>gold</td>\n",
       "            <td>67318</td>\n",
       "            <td>Jeremy Bowers</td>\n",
       "            <td>423327</td>\n",
       "            <td>530</td>\n",
       "            <td>Washington Pl, Apt 3A</td>\n",
       "            <td>871539279</td>\n",
       "            <td>423327</td>\n",
       "            <td>30</td>\n",
       "            <td>70</td>\n",
       "            <td>brown</td>\n",
       "            <td>brown</td>\n",
       "            <td>male</td>\n",
       "            <td>0H42W2</td>\n",
       "            <td>Chevrolet</td>\n",
       "            <td>Spark LS</td>\n",
       "        </tr>\n",
       "    </tbody>\n",
       "</table>"
      ],
      "text/plain": [
       "[('48Z55', 67318, 'Jeremy Bowers', 20160101, 'gold', 67318, 'Jeremy Bowers', 423327, 530, 'Washington Pl, Apt 3A', '871539279', 423327, 30, 70, 'brown', 'brown', 'male', '0H42W2', 'Chevrolet', 'Spark LS')]"
      ]
     },
     "execution_count": 55,
     "metadata": {},
     "output_type": "execute_result"
    }
   ],
   "source": [
    "%%sql\n",
    "SELECT *\n",
    "FROM get_fit_now_member\n",
    "INNER JOIN person on get_fit_now_member.person_id = person.id\n",
    "INNER JOIN drivers_license on person.license_id = drivers_license.id\n",
    "WHERE plate_number LIKE '%H42W%' and (get_fit_now_member.name LIKE '%Joe Germuska%' or get_fit_now_member.name LIKE '%Jeremy Bowers%')\n",
    "LIMIT 5;"
   ]
  },
  {
   "cell_type": "code",
   "execution_count": 56,
   "id": "830ea4a6",
   "metadata": {},
   "outputs": [
    {
     "name": "stdout",
     "output_type": "stream",
     "text": [
      " * sqlite:///sql-murder-mystery.db\n",
      "1 rows affected.\n",
      "Done.\n"
     ]
    },
    {
     "data": {
      "text/html": [
       "<table>\n",
       "    <thead>\n",
       "        <tr>\n",
       "            <th>value</th>\n",
       "        </tr>\n",
       "    </thead>\n",
       "    <tbody>\n",
       "        <tr>\n",
       "            <td>Congrats, you found the murderer! But wait, there&#x27;s more... If you think you&#x27;re up for a challenge, try querying the interview transcript of the murderer to find the real villain behind this crime. If you feel especially confident in your SQL skills, try to complete this final step with no more than 2 queries. Use this same INSERT statement with your new suspect to check your answer.</td>\n",
       "        </tr>\n",
       "    </tbody>\n",
       "</table>"
      ],
      "text/plain": [
       "[(\"Congrats, you found the murderer! But wait, there's more... If you think you're up for a challenge, try querying the interview transcript of the murd ... (88 characters truncated) ... r SQL skills, try to complete this final step with no more than 2 queries. Use this same INSERT statement with your new suspect to check your answer.\",)]"
      ]
     },
     "execution_count": 56,
     "metadata": {},
     "output_type": "execute_result"
    }
   ],
   "source": [
    "%%sql\n",
    "INSERT INTO solution VALUES (1, 'Jeremy Bowers');\n",
    "SELECT value FROM solution;"
   ]
  },
  {
   "cell_type": "code",
   "execution_count": 58,
   "id": "0cb33852-dc1d-4711-b87f-10716fc9ba5e",
   "metadata": {},
   "outputs": [
    {
     "name": "stdout",
     "output_type": "stream",
     "text": [
      " * sqlite:///sql-murder-mystery.db\n",
      "Done.\n"
     ]
    },
    {
     "data": {
      "text/html": [
       "<table>\n",
       "    <thead>\n",
       "        <tr>\n",
       "            <th>person_id</th>\n",
       "            <th>transcript</th>\n",
       "            <th>id</th>\n",
       "            <th>name</th>\n",
       "            <th>license_id</th>\n",
       "            <th>address_number</th>\n",
       "            <th>address_street_name</th>\n",
       "            <th>ssn</th>\n",
       "        </tr>\n",
       "    </thead>\n",
       "    <tbody>\n",
       "        <tr>\n",
       "            <td>67318</td>\n",
       "            <td>I was hired by a woman with a lot of money. I don&#x27;t know her name but I know she&#x27;s around 5&#x27;5&quot; (65&quot;) or 5&#x27;7&quot; (67&quot;). She has red hair and she drives a Tesla Model S. I know that she attended the SQL Symphony Concert 3 times in December 2017.<br></td>\n",
       "            <td>67318</td>\n",
       "            <td>Jeremy Bowers</td>\n",
       "            <td>423327</td>\n",
       "            <td>530</td>\n",
       "            <td>Washington Pl, Apt 3A</td>\n",
       "            <td>871539279</td>\n",
       "        </tr>\n",
       "    </tbody>\n",
       "</table>"
      ],
      "text/plain": [
       "[(67318, 'I was hired by a woman with a lot of money. I don\\'t know her name but I know she\\'s around 5\\'5\" (65\") or 5\\'7\" (67\"). She has red hair and she drives a Tesla Model S. I know that she attended the SQL Symphony Concert 3 times in December 2017.\\n', 67318, 'Jeremy Bowers', 423327, 530, 'Washington Pl, Apt 3A', '871539279')]"
      ]
     },
     "execution_count": 58,
     "metadata": {},
     "output_type": "execute_result"
    }
   ],
   "source": [
    "%%sql\n",
    "SELECT *\n",
    "FROM interview\n",
    "INNER JOIN person ON person_id = id\n",
    "WHERE name LIKE '%Jeremy Bowers%';"
   ]
  },
  {
   "cell_type": "code",
   "execution_count": 69,
   "id": "85b22ee0-1f88-4c26-a78f-eeaad9a3fdfe",
   "metadata": {},
   "outputs": [
    {
     "name": "stdout",
     "output_type": "stream",
     "text": [
      " * sqlite:///sql-murder-mystery.db\n",
      "Done.\n"
     ]
    },
    {
     "data": {
      "text/html": [
       "<table>\n",
       "    <thead>\n",
       "        <tr>\n",
       "            <th>person_id</th>\n",
       "            <th>event_id</th>\n",
       "            <th>event_name</th>\n",
       "            <th>date</th>\n",
       "        </tr>\n",
       "    </thead>\n",
       "    <tbody>\n",
       "        <tr>\n",
       "            <td>19260</td>\n",
       "            <td>1143</td>\n",
       "            <td>SQL Symphony Concert</td>\n",
       "            <td>20171214</td>\n",
       "        </tr>\n",
       "        <tr>\n",
       "            <td>58898</td>\n",
       "            <td>1143</td>\n",
       "            <td>SQL Symphony Concert</td>\n",
       "            <td>20171220</td>\n",
       "        </tr>\n",
       "        <tr>\n",
       "            <td>19292</td>\n",
       "            <td>1143</td>\n",
       "            <td>SQL Symphony Concert</td>\n",
       "            <td>20171213</td>\n",
       "        </tr>\n",
       "        <tr>\n",
       "            <td>43366</td>\n",
       "            <td>1143</td>\n",
       "            <td>SQL Symphony Concert</td>\n",
       "            <td>20171207</td>\n",
       "        </tr>\n",
       "        <tr>\n",
       "            <td>92343</td>\n",
       "            <td>1143</td>\n",
       "            <td>SQL Symphony Concert</td>\n",
       "            <td>20171212</td>\n",
       "        </tr>\n",
       "        <tr>\n",
       "            <td>28582</td>\n",
       "            <td>1143</td>\n",
       "            <td>SQL Symphony Concert</td>\n",
       "            <td>20171220</td>\n",
       "        </tr>\n",
       "        <tr>\n",
       "            <td>28582</td>\n",
       "            <td>1143</td>\n",
       "            <td>SQL Symphony Concert</td>\n",
       "            <td>20171215</td>\n",
       "        </tr>\n",
       "        <tr>\n",
       "            <td>24397</td>\n",
       "            <td>1143</td>\n",
       "            <td>SQL Symphony Concert</td>\n",
       "            <td>20171208</td>\n",
       "        </tr>\n",
       "        <tr>\n",
       "            <td>79312</td>\n",
       "            <td>1143</td>\n",
       "            <td>SQL Symphony Concert</td>\n",
       "            <td>20171203</td>\n",
       "        </tr>\n",
       "        <tr>\n",
       "            <td>24556</td>\n",
       "            <td>1143</td>\n",
       "            <td>SQL Symphony Concert</td>\n",
       "            <td>20171207</td>\n",
       "        </tr>\n",
       "        <tr>\n",
       "            <td>24556</td>\n",
       "            <td>1143</td>\n",
       "            <td>SQL Symphony Concert</td>\n",
       "            <td>20171221</td>\n",
       "        </tr>\n",
       "        <tr>\n",
       "            <td>24556</td>\n",
       "            <td>1143</td>\n",
       "            <td>SQL Symphony Concert</td>\n",
       "            <td>20171224</td>\n",
       "        </tr>\n",
       "        <tr>\n",
       "            <td>99716</td>\n",
       "            <td>1143</td>\n",
       "            <td>SQL Symphony Concert</td>\n",
       "            <td>20171206</td>\n",
       "        </tr>\n",
       "        <tr>\n",
       "            <td>99716</td>\n",
       "            <td>1143</td>\n",
       "            <td>SQL Symphony Concert</td>\n",
       "            <td>20171212</td>\n",
       "        </tr>\n",
       "        <tr>\n",
       "            <td>99716</td>\n",
       "            <td>1143</td>\n",
       "            <td>SQL Symphony Concert</td>\n",
       "            <td>20171229</td>\n",
       "        </tr>\n",
       "    </tbody>\n",
       "</table>"
      ],
      "text/plain": [
       "[(19260, 1143, 'SQL Symphony Concert', 20171214),\n",
       " (58898, 1143, 'SQL Symphony Concert', 20171220),\n",
       " (19292, 1143, 'SQL Symphony Concert', 20171213),\n",
       " (43366, 1143, 'SQL Symphony Concert', 20171207),\n",
       " (92343, 1143, 'SQL Symphony Concert', 20171212),\n",
       " (28582, 1143, 'SQL Symphony Concert', 20171220),\n",
       " (28582, 1143, 'SQL Symphony Concert', 20171215),\n",
       " (24397, 1143, 'SQL Symphony Concert', 20171208),\n",
       " (79312, 1143, 'SQL Symphony Concert', 20171203),\n",
       " (24556, 1143, 'SQL Symphony Concert', 20171207),\n",
       " (24556, 1143, 'SQL Symphony Concert', 20171221),\n",
       " (24556, 1143, 'SQL Symphony Concert', 20171224),\n",
       " (99716, 1143, 'SQL Symphony Concert', 20171206),\n",
       " (99716, 1143, 'SQL Symphony Concert', 20171212),\n",
       " (99716, 1143, 'SQL Symphony Concert', 20171229)]"
      ]
     },
     "execution_count": 69,
     "metadata": {},
     "output_type": "execute_result"
    }
   ],
   "source": [
    "%%sql\n",
    "SELECT *\n",
    "FROM facebook_event_checkin\n",
    "WHERE event_name LIKE '%Symphony%' \n",
    "  AND date LIKE '201712%'\n",
    "  AND person_id IN (\n",
    "      SELECT person_id\n",
    "      FROM facebook_event_checkin\n",
    "      GROUP BY person_id\n",
    "      HAVING COUNT(person_id) >= 3\n",
    "  );"
   ]
  },
  {
   "cell_type": "code",
   "execution_count": 72,
   "id": "0d6a0885-7b04-4fa1-9559-f986701d55e1",
   "metadata": {},
   "outputs": [
    {
     "name": "stdout",
     "output_type": "stream",
     "text": [
      " * sqlite:///sql-murder-mystery.db\n",
      "Done.\n"
     ]
    },
    {
     "data": {
      "text/html": [
       "<table>\n",
       "    <thead>\n",
       "        <tr>\n",
       "            <th>person_id</th>\n",
       "            <th>event_id</th>\n",
       "            <th>event_name</th>\n",
       "            <th>date</th>\n",
       "            <th>person_id_1</th>\n",
       "        </tr>\n",
       "    </thead>\n",
       "    <tbody>\n",
       "        <tr>\n",
       "            <td>24556</td>\n",
       "            <td>1143</td>\n",
       "            <td>SQL Symphony Concert</td>\n",
       "            <td>20171207</td>\n",
       "            <td>24556</td>\n",
       "        </tr>\n",
       "        <tr>\n",
       "            <td>24556</td>\n",
       "            <td>1143</td>\n",
       "            <td>SQL Symphony Concert</td>\n",
       "            <td>20171221</td>\n",
       "            <td>24556</td>\n",
       "        </tr>\n",
       "        <tr>\n",
       "            <td>24556</td>\n",
       "            <td>1143</td>\n",
       "            <td>SQL Symphony Concert</td>\n",
       "            <td>20171224</td>\n",
       "            <td>24556</td>\n",
       "        </tr>\n",
       "        <tr>\n",
       "            <td>99716</td>\n",
       "            <td>1143</td>\n",
       "            <td>SQL Symphony Concert</td>\n",
       "            <td>20171206</td>\n",
       "            <td>99716</td>\n",
       "        </tr>\n",
       "        <tr>\n",
       "            <td>99716</td>\n",
       "            <td>1143</td>\n",
       "            <td>SQL Symphony Concert</td>\n",
       "            <td>20171212</td>\n",
       "            <td>99716</td>\n",
       "        </tr>\n",
       "        <tr>\n",
       "            <td>99716</td>\n",
       "            <td>1143</td>\n",
       "            <td>SQL Symphony Concert</td>\n",
       "            <td>20171229</td>\n",
       "            <td>99716</td>\n",
       "        </tr>\n",
       "    </tbody>\n",
       "</table>"
      ],
      "text/plain": [
       "[(24556, 1143, 'SQL Symphony Concert', 20171207, 24556),\n",
       " (24556, 1143, 'SQL Symphony Concert', 20171221, 24556),\n",
       " (24556, 1143, 'SQL Symphony Concert', 20171224, 24556),\n",
       " (99716, 1143, 'SQL Symphony Concert', 20171206, 99716),\n",
       " (99716, 1143, 'SQL Symphony Concert', 20171212, 99716),\n",
       " (99716, 1143, 'SQL Symphony Concert', 20171229, 99716)]"
      ]
     },
     "execution_count": 72,
     "metadata": {},
     "output_type": "execute_result"
    }
   ],
   "source": [
    "%%sql\n",
    "WITH person_counts AS (\n",
    "    SELECT person_id\n",
    "    FROM facebook_event_checkin\n",
    "    WHERE event_name LIKE '%Symphony%' \n",
    "      AND date LIKE '201712%'\n",
    "    GROUP BY person_id\n",
    "    HAVING COUNT(*) >= 3\n",
    ")\n",
    "SELECT *\n",
    "FROM facebook_event_checkin\n",
    "JOIN person_counts ON facebook_event_checkin.person_id = person_counts.person_id\n",
    "WHERE facebook_event_checkin.event_name LIKE '%Symphony%' \n",
    "  AND facebook_event_checkin.date LIKE '201712%';"
   ]
  },
  {
   "cell_type": "code",
   "execution_count": 80,
   "id": "e3ba226c-1f68-4213-aaf9-061fd6474acb",
   "metadata": {},
   "outputs": [
    {
     "name": "stdout",
     "output_type": "stream",
     "text": [
      " * sqlite:///sql-murder-mystery.db\n",
      "Done.\n"
     ]
    },
    {
     "data": {
      "text/html": [
       "<table>\n",
       "    <thead>\n",
       "        <tr>\n",
       "            <th>id</th>\n",
       "            <th>name</th>\n",
       "            <th>license_id</th>\n",
       "            <th>address_number</th>\n",
       "            <th>address_street_name</th>\n",
       "            <th>ssn</th>\n",
       "            <th>id_1</th>\n",
       "            <th>age</th>\n",
       "            <th>height</th>\n",
       "            <th>eye_color</th>\n",
       "            <th>hair_color</th>\n",
       "            <th>gender</th>\n",
       "            <th>plate_number</th>\n",
       "            <th>car_make</th>\n",
       "            <th>car_model</th>\n",
       "            <th>ssn_1</th>\n",
       "            <th>annual_income</th>\n",
       "        </tr>\n",
       "    </thead>\n",
       "    <tbody>\n",
       "        <tr>\n",
       "            <td>99716</td>\n",
       "            <td>Miranda Priestly</td>\n",
       "            <td>202298</td>\n",
       "            <td>1883</td>\n",
       "            <td>Golden Ave</td>\n",
       "            <td>987756388</td>\n",
       "            <td>202298</td>\n",
       "            <td>68</td>\n",
       "            <td>66</td>\n",
       "            <td>green</td>\n",
       "            <td>red</td>\n",
       "            <td>female</td>\n",
       "            <td>500123</td>\n",
       "            <td>Tesla</td>\n",
       "            <td>Model S</td>\n",
       "            <td>987756388</td>\n",
       "            <td>310000</td>\n",
       "        </tr>\n",
       "    </tbody>\n",
       "</table>"
      ],
      "text/plain": [
       "[(99716, 'Miranda Priestly', 202298, 1883, 'Golden Ave', '987756388', 202298, 68, 66, 'green', 'red', 'female', '500123', 'Tesla', 'Model S', '987756388', 310000)]"
      ]
     },
     "execution_count": 80,
     "metadata": {},
     "output_type": "execute_result"
    }
   ],
   "source": [
    "%%sql\n",
    "SELECT *\n",
    "FROM person\n",
    "INNER JOIN drivers_license on person.license_id = drivers_license.id\n",
    "INNER JOIN income on person.ssn = income.ssn\n",
    "WHERE gender = 'female' and hair_color = 'red' and car_make LIKE '%Tesla%' and car_model LIKE '%Model S%' and (person.id = '99716' or person.id = '24556')\n",
    "LIMIT 5;"
   ]
  },
  {
   "cell_type": "code",
   "execution_count": 79,
   "id": "2ab578a2-a2bc-4146-9769-b565871f4ef3",
   "metadata": {},
   "outputs": [
    {
     "name": "stdout",
     "output_type": "stream",
     "text": [
      " * sqlite:///sql-murder-mystery.db\n",
      "1 rows affected.\n",
      "Done.\n"
     ]
    },
    {
     "data": {
      "text/html": [
       "<table>\n",
       "    <thead>\n",
       "        <tr>\n",
       "            <th>value</th>\n",
       "        </tr>\n",
       "    </thead>\n",
       "    <tbody>\n",
       "        <tr>\n",
       "            <td>Congrats, you found the brains behind the murder! Everyone in SQL City hails you as the greatest SQL detective of all time. Time to break out the champagne!</td>\n",
       "        </tr>\n",
       "    </tbody>\n",
       "</table>"
      ],
      "text/plain": [
       "[('Congrats, you found the brains behind the murder! Everyone in SQL City hails you as the greatest SQL detective of all time. Time to break out the champagne!',)]"
      ]
     },
     "execution_count": 79,
     "metadata": {},
     "output_type": "execute_result"
    }
   ],
   "source": [
    "%%sql\n",
    "INSERT INTO solution VALUES (1, 'Miranda Priestly');\n",
    "SELECT value FROM solution;"
   ]
  },
  {
   "cell_type": "code",
   "execution_count": null,
   "id": "22efe189-709c-4bf4-aae6-7be2823e7770",
   "metadata": {},
   "outputs": [],
   "source": []
  }
 ],
 "metadata": {
  "kernelspec": {
   "display_name": "Python 3 (ipykernel)",
   "language": "python",
   "name": "python3"
  },
  "language_info": {
   "codemirror_mode": {
    "name": "ipython",
    "version": 3
   },
   "file_extension": ".py",
   "mimetype": "text/x-python",
   "name": "python",
   "nbconvert_exporter": "python",
   "pygments_lexer": "ipython3",
   "version": "3.9.21"
  }
 },
 "nbformat": 4,
 "nbformat_minor": 5
}
